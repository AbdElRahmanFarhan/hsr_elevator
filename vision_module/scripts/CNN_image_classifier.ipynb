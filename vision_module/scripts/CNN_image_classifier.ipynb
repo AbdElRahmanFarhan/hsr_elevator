{
 "cells": [
  {
   "cell_type": "code",
   "execution_count": 13,
   "id": "a8effa09",
   "metadata": {
    "scrolled": true
   },
   "outputs": [],
   "source": [
    "from tensorflow.keras.utils import to_categorical, plot_model\n",
    "from tensorflow.keras.models import Sequential, load_model\n",
    "from tensorflow.keras.layers import Conv2D, MaxPooling2D, Dense, Flatten, Dropout, BatchNormalization\n",
    "from tensorflow.keras.callbacks import EarlyStopping, LambdaCallback, ModelCheckpoint\n",
    "from tensorflow.keras.optimizers import Adam\n",
    "import os \n",
    "import cv2\n",
    "import numpy as np\n",
    "from sklearn.model_selection import train_test_split\n",
    "from sklearn.metrics import accuracy_score\n"
   ]
  },
  {
   "cell_type": "code",
   "execution_count": 14,
   "id": "74a00311",
   "metadata": {},
   "outputs": [],
   "source": [
    "\n",
    "class checkpoint_custom:\n",
    "    def __init__(self,name):\n",
    "        self.best_val_acc = 0\n",
    "        self.best_val_loss = 1000\n",
    "        self.name = name\n",
    "        \n",
    "    def saveModel(self, epoch, logs):\n",
    "        val_acc = logs['val_accuracy']\n",
    "        val_loss = logs['val_loss']\n",
    "    \n",
    "        if val_acc > self.best_val_acc:\n",
    "            print(f'\\nModel Saved val_binary_accuracy: {self.best_val_acc:.4f} ---> {val_acc:.4f}, val_loss: {self.val_loss:.4f}')\n",
    "            self.best_val_acc = val_acc\n",
    "            self.best_val_loss = val_loss\n",
    "            model.save(self.name)\n",
    "        elif val_acc == self.best_val_acc:\n",
    "            if val_loss < self.best_val_loss:\n",
    "                print(f'\\nModel Saved val_binary_accuracy: {self.best_val_acc:.4f}, val_loss: {self.best_val_loss:.4f} ---> {val_loss:.4f}')\n",
    "                self.best_val_loss = val_loss\n",
    "                model.save(self.name)\n",
    "        else:\n",
    "            print(f'\\nval_binary_accuracy or val_loss did not improve from val_accuracy: {self.best_val_acc:.4f}, val_loss: {self.best_val_loss:.4f}')\n",
    "\n",
    "            \n",
    "            \n"
   ]
  },
  {
   "cell_type": "code",
   "execution_count": 15,
   "id": "017b2b5d",
   "metadata": {},
   "outputs": [],
   "source": [
    "kernel = (1,1)\n",
    "resolution=(28, 28)\n",
    "def process_imgs(imgs, kernel, resolution):\n",
    "#     imgs  = np.array([cv2.cvtColor(img, cv2.COLOR_RGB2GRAY) for img in imgs])\n",
    "#     imgs  = np.array([cv2.blur(img, kernel) for img in imgs])\n",
    "    imgs  = np.array([cv2.resize(img , resolution) for img in imgs])\n",
    "#     imgs  = np.array([img.flatten() for img in imgs])\n",
    "#     imgs = np.array([extract_hog_features(img) for img in imgs])\n",
    "    return imgs"
   ]
  },
  {
   "cell_type": "code",
   "execution_count": 17,
   "id": "4fbc0af6",
   "metadata": {},
   "outputs": [],
   "source": [
    "ones = [cv2.imread(os.path.join(\"/home/osamaali/MAS/winter_22/SDP winter_22/Codes/Image_processing/images_augmented_bag/1\",filename)) \n",
    "for filename in os.listdir(\"/home/osamaali/MAS/winter_22/SDP winter_22/Codes/Image_processing/images_augmented_bag/1\")]\n",
    "ones = process_imgs(ones, kernel, resolution)\n",
    "\n",
    "twos = [cv2.imread(os.path.join(\"/home/osamaali/MAS/winter_22/SDP winter_22/Codes/Image_processing/images_augmented_bag/2\",filename)) \n",
    "for filename in os.listdir(\"/home/osamaali/MAS/winter_22/SDP winter_22/Codes/Image_processing/images_augmented_bag/2\")]\n",
    "twos = process_imgs(twos, kernel, resolution)\n",
    "\n",
    "e = [cv2.imread(os.path.join(\"/home/osamaali/MAS/winter_22/SDP winter_22/Codes/Image_processing/images_augmented_bag/E\",filename)) \n",
    "for filename in os.listdir(\"/home/osamaali/MAS/winter_22/SDP winter_22/Codes/Image_processing/images_augmented_bag/E\")]\n",
    "e = process_imgs(e, kernel, resolution)\n",
    "\n",
    "ocs = [cv2.imread(os.path.join(\"/home/osamaali/MAS/winter_22/SDP winter_22/Codes/Image_processing/images_augmented_bag/OC\",filename))\n",
    "for filename in os.listdir(\"/home/osamaali/MAS/winter_22/SDP winter_22/Codes/Image_processing/images_augmented_bag/OC\")]\n",
    "ocs = process_imgs(ocs, kernel, resolution)\n",
    "\n",
    "bells = [cv2.imread(os.path.join(\"/home/osamaali/MAS/winter_22/SDP winter_22/Codes/Image_processing/images_augmented_bag/Bell\",filename))\n",
    "for filename in os.listdir(\"/home/osamaali/MAS/winter_22/SDP winter_22/Codes/Image_processing/images_augmented_bag/Bell\")]\n",
    "bells = process_imgs(bells, kernel, resolution)\n",
    "\n",
    "X = np.array([*ones, *twos, *e , *ocs, *bells]) #* unwraps lists of lists\n",
    "y = np.array([*len(ones)*['0'], *len(twos)*['1'], *len(e)*['2'], *len(ocs)*['3'], *len(bells)*['4']])"
   ]
  },
  {
   "cell_type": "code",
   "execution_count": 18,
   "id": "c77cdb93",
   "metadata": {},
   "outputs": [
    {
     "name": "stdout",
     "output_type": "stream",
     "text": [
      "(2812, 28, 28, 3)\n"
     ]
    }
   ],
   "source": [
    "X_train, X_test, y_train, y_test = train_test_split(X, y, test_size=0.25, random_state=42, stratify=y)\n",
    "X_train, X_val, y_train, y_val = train_test_split(X_train, y_train, test_size=0.25, random_state=42, stratify=y_train)\n",
    "print(X_train.shape)"
   ]
  },
  {
   "cell_type": "code",
   "execution_count": 19,
   "id": "c2dbaf08",
   "metadata": {},
   "outputs": [],
   "source": [
    "#Converting the labels into one hot encoding\n",
    "y_train = to_categorical(y_train, 5)\n",
    "y_val = to_categorical(y_val, 5)\n",
    "\n",
    "#Define the model\n",
    "model = Sequential()\n",
    "model.add(Conv2D(32, (3,3), activation='relu', input_shape = X_train.shape[1:]))\n",
    "model.add(MaxPooling2D(pool_size=(3, 3)))\n",
    "model.add(Conv2D(64, (3,3), activation='relu'))\n",
    "model.add(MaxPooling2D(pool_size=(3, 3)))\n",
    "# model.add(Conv2D(128, (3,3), activation='relu'))\n",
    "# model.add(MaxPooling2D(pool_size=(3, 3)))\n",
    "model.add(Flatten())\n",
    "model.add(Dense(32, activation='relu'))\n",
    "model.add(Dropout(0.2))\n",
    "model.add(Dense(5, activation='softmax'))\n",
    "#model.summary() # to see the architecture\n",
    "#model.summary() # to see the architecture\n",
    "# Compiling the Model. \n",
    "model.compile(loss = 'categorical_crossentropy', optimizer = Adam(), metrics = ['accuracy'])\n",
    "\n"
   ]
  },
  {
   "cell_type": "code",
   "execution_count": 20,
   "id": "7da3b5e6",
   "metadata": {},
   "outputs": [
    {
     "name": "stdout",
     "output_type": "stream",
     "text": [
      "Epoch 1/50\n",
      "88/88 [==============================] - 2s 16ms/step - loss: 4.6252 - accuracy: 0.5427 - val_loss: 0.4667 - val_accuracy: 0.8380\n",
      "Epoch 2/50\n",
      "88/88 [==============================] - 1s 13ms/step - loss: 0.5841 - accuracy: 0.7635 - val_loss: 0.2405 - val_accuracy: 0.9339\n",
      "Epoch 3/50\n",
      "88/88 [==============================] - 1s 13ms/step - loss: 0.3837 - accuracy: 0.8581 - val_loss: 0.1970 - val_accuracy: 0.9755\n",
      "Epoch 4/50\n",
      "88/88 [==============================] - 1s 13ms/step - loss: 0.2868 - accuracy: 0.8944 - val_loss: 0.1101 - val_accuracy: 0.9701\n",
      "Epoch 5/50\n",
      "88/88 [==============================] - 1s 13ms/step - loss: 0.2246 - accuracy: 0.9218 - val_loss: 0.0854 - val_accuracy: 0.9925\n",
      "Epoch 6/50\n",
      "88/88 [==============================] - 1s 13ms/step - loss: 0.1651 - accuracy: 0.9452 - val_loss: 0.0462 - val_accuracy: 0.9925\n",
      "Epoch 7/50\n",
      "88/88 [==============================] - 1s 13ms/step - loss: 0.1558 - accuracy: 0.9452 - val_loss: 0.0370 - val_accuracy: 0.9957\n",
      "Epoch 8/50\n",
      "88/88 [==============================] - 1s 13ms/step - loss: 0.1206 - accuracy: 0.9545 - val_loss: 0.0216 - val_accuracy: 0.9968\n",
      "Epoch 9/50\n",
      "88/88 [==============================] - 1s 14ms/step - loss: 0.0990 - accuracy: 0.9648 - val_loss: 0.0161 - val_accuracy: 0.9979\n",
      "Epoch 10/50\n",
      "88/88 [==============================] - 1s 13ms/step - loss: 0.1019 - accuracy: 0.9637 - val_loss: 0.0116 - val_accuracy: 0.9989\n",
      "Epoch 11/50\n",
      "88/88 [==============================] - 1s 14ms/step - loss: 0.0808 - accuracy: 0.9723 - val_loss: 0.0788 - val_accuracy: 0.9765\n",
      "Epoch 12/50\n",
      "88/88 [==============================] - 1s 14ms/step - loss: 0.0826 - accuracy: 0.9719 - val_loss: 0.0111 - val_accuracy: 0.9957\n",
      "Epoch 13/50\n",
      "88/88 [==============================] - 1s 13ms/step - loss: 0.0639 - accuracy: 0.9758 - val_loss: 0.0091 - val_accuracy: 0.9979\n",
      "Epoch 14/50\n",
      "88/88 [==============================] - 1s 13ms/step - loss: 0.0551 - accuracy: 0.9808 - val_loss: 0.0144 - val_accuracy: 0.9968\n",
      "Epoch 15/50\n",
      "88/88 [==============================] - 1s 13ms/step - loss: 0.0547 - accuracy: 0.9836 - val_loss: 0.0073 - val_accuracy: 0.9979\n",
      "Epoch 16/50\n",
      "88/88 [==============================] - 1s 14ms/step - loss: 0.0675 - accuracy: 0.9772 - val_loss: 0.0038 - val_accuracy: 0.9989\n",
      "Epoch 17/50\n",
      "88/88 [==============================] - 1s 13ms/step - loss: 0.0323 - accuracy: 0.9876 - val_loss: 0.0090 - val_accuracy: 0.9968\n",
      "Epoch 18/50\n",
      "88/88 [==============================] - 1s 13ms/step - loss: 0.0353 - accuracy: 0.9854 - val_loss: 0.0026 - val_accuracy: 0.9989\n",
      "Epoch 19/50\n",
      "88/88 [==============================] - 1s 13ms/step - loss: 0.0652 - accuracy: 0.9751 - val_loss: 0.0077 - val_accuracy: 0.9979\n",
      "Epoch 20/50\n",
      "88/88 [==============================] - 1s 14ms/step - loss: 0.0426 - accuracy: 0.9844 - val_loss: 0.0101 - val_accuracy: 0.9979\n",
      "Epoch 21/50\n",
      "88/88 [==============================] - 1s 13ms/step - loss: 0.0310 - accuracy: 0.9890 - val_loss: 0.0017 - val_accuracy: 1.0000\n",
      "Epoch 22/50\n",
      "88/88 [==============================] - 1s 13ms/step - loss: 0.0277 - accuracy: 0.9890 - val_loss: 0.0178 - val_accuracy: 0.9957\n",
      "Epoch 23/50\n",
      "88/88 [==============================] - 1s 14ms/step - loss: 0.0451 - accuracy: 0.9826 - val_loss: 0.0102 - val_accuracy: 0.9957\n",
      "Epoch 24/50\n",
      "88/88 [==============================] - 1s 13ms/step - loss: 0.0429 - accuracy: 0.9844 - val_loss: 0.0038 - val_accuracy: 0.9989\n",
      "Epoch 25/50\n",
      "88/88 [==============================] - 1s 13ms/step - loss: 0.0297 - accuracy: 0.9897 - val_loss: 0.0054 - val_accuracy: 0.9979\n",
      "Epoch 26/50\n",
      "88/88 [==============================] - 1s 14ms/step - loss: 0.0287 - accuracy: 0.9868 - val_loss: 0.0014 - val_accuracy: 0.9989\n",
      "Epoch 27/50\n",
      "88/88 [==============================] - 1s 13ms/step - loss: 0.0144 - accuracy: 0.9954 - val_loss: 0.0018 - val_accuracy: 0.9989\n",
      "Epoch 28/50\n",
      "88/88 [==============================] - 1s 14ms/step - loss: 0.0168 - accuracy: 0.9936 - val_loss: 1.4917e-04 - val_accuracy: 1.0000\n",
      "Epoch 29/50\n",
      "88/88 [==============================] - 1s 13ms/step - loss: 0.0100 - accuracy: 0.9964 - val_loss: 1.3796e-04 - val_accuracy: 1.0000\n",
      "Epoch 30/50\n",
      "88/88 [==============================] - 1s 13ms/step - loss: 0.0202 - accuracy: 0.9932 - val_loss: 0.0043 - val_accuracy: 0.9979\n",
      "Epoch 31/50\n",
      "88/88 [==============================] - 1s 14ms/step - loss: 0.1588 - accuracy: 0.9459 - val_loss: 0.0097 - val_accuracy: 0.9989\n",
      "Epoch 32/50\n",
      "88/88 [==============================] - 1s 14ms/step - loss: 0.0534 - accuracy: 0.9847 - val_loss: 0.0014 - val_accuracy: 1.0000\n",
      "Epoch 33/50\n",
      "88/88 [==============================] - 1s 15ms/step - loss: 0.0360 - accuracy: 0.9908 - val_loss: 0.0031 - val_accuracy: 0.9989\n",
      "Epoch 34/50\n",
      "88/88 [==============================] - 1s 13ms/step - loss: 0.0452 - accuracy: 0.9886 - val_loss: 0.0223 - val_accuracy: 0.9883\n",
      "Epoch 35/50\n",
      "88/88 [==============================] - 1s 13ms/step - loss: 0.0588 - accuracy: 0.9812 - val_loss: 0.0144 - val_accuracy: 0.9957\n",
      "Epoch 36/50\n",
      "88/88 [==============================] - 1s 13ms/step - loss: 0.0220 - accuracy: 0.9947 - val_loss: 5.0519e-04 - val_accuracy: 1.0000\n",
      "Epoch 37/50\n",
      "88/88 [==============================] - 1s 13ms/step - loss: 0.0302 - accuracy: 0.9932 - val_loss: 0.0023 - val_accuracy: 0.9989\n",
      "Epoch 38/50\n",
      "88/88 [==============================] - 1s 15ms/step - loss: 0.0266 - accuracy: 0.9925 - val_loss: 9.4657e-04 - val_accuracy: 1.0000\n",
      "Epoch 39/50\n",
      "88/88 [==============================] - 1s 13ms/step - loss: 0.0193 - accuracy: 0.9936 - val_loss: 6.5735e-05 - val_accuracy: 1.0000\n",
      "Epoch 40/50\n",
      "88/88 [==============================] - 1s 15ms/step - loss: 0.0178 - accuracy: 0.9929 - val_loss: 2.6523e-05 - val_accuracy: 1.0000\n",
      "Epoch 41/50\n",
      "88/88 [==============================] - 1s 15ms/step - loss: 0.0152 - accuracy: 0.9957 - val_loss: 0.0042 - val_accuracy: 0.9989\n",
      "Epoch 42/50\n",
      "88/88 [==============================] - 1s 15ms/step - loss: 0.0355 - accuracy: 0.9876 - val_loss: 0.0055 - val_accuracy: 0.9979\n",
      "Epoch 43/50\n",
      "88/88 [==============================] - 1s 15ms/step - loss: 0.0136 - accuracy: 0.9961 - val_loss: 0.0114 - val_accuracy: 0.9968\n",
      "Epoch 44/50\n",
      "88/88 [==============================] - 1s 15ms/step - loss: 0.0290 - accuracy: 0.9904 - val_loss: 3.5521e-04 - val_accuracy: 1.0000\n",
      "Epoch 45/50\n",
      "88/88 [==============================] - 1s 15ms/step - loss: 0.0225 - accuracy: 0.9925 - val_loss: 0.0158 - val_accuracy: 0.9936\n",
      "Epoch 46/50\n",
      "88/88 [==============================] - 1s 15ms/step - loss: 0.0162 - accuracy: 0.9961 - val_loss: 3.6152e-05 - val_accuracy: 1.0000\n",
      "Epoch 47/50\n",
      "88/88 [==============================] - 1s 14ms/step - loss: 0.0090 - accuracy: 0.9954 - val_loss: 0.0028 - val_accuracy: 0.9989\n",
      "Epoch 48/50\n",
      "88/88 [==============================] - 1s 14ms/step - loss: 0.0107 - accuracy: 0.9954 - val_loss: 2.4723e-04 - val_accuracy: 1.0000\n",
      "Epoch 49/50\n",
      "88/88 [==============================] - 1s 14ms/step - loss: 0.0364 - accuracy: 0.9915 - val_loss: 0.0012 - val_accuracy: 1.0000\n",
      "Epoch 50/50\n",
      "88/88 [==============================] - 1s 15ms/step - loss: 0.0158 - accuracy: 0.9940 - val_loss: 5.8939e-05 - val_accuracy: 1.0000\n",
      "Model: \"sequential_1\"\n",
      "_________________________________________________________________\n",
      " Layer (type)                Output Shape              Param #   \n",
      "=================================================================\n",
      " conv2d_2 (Conv2D)           (None, 26, 26, 32)        896       \n",
      "                                                                 \n",
      " max_pooling2d_2 (MaxPooling  (None, 8, 8, 32)         0         \n",
      " 2D)                                                             \n",
      "                                                                 \n",
      " conv2d_3 (Conv2D)           (None, 6, 6, 64)          18496     \n",
      "                                                                 \n",
      " max_pooling2d_3 (MaxPooling  (None, 2, 2, 64)         0         \n",
      " 2D)                                                             \n",
      "                                                                 \n",
      " flatten_1 (Flatten)         (None, 256)               0         \n",
      "                                                                 \n",
      " dense_2 (Dense)             (None, 32)                8224      \n"
     ]
    },
    {
     "name": "stdout",
     "output_type": "stream",
     "text": [
      "                                                                 \n",
      " dropout_1 (Dropout)         (None, 32)                0         \n",
      "                                                                 \n",
      " dense_3 (Dense)             (None, 5)                 165       \n",
      "                                                                 \n",
      "=================================================================\n",
      "Total params: 27,781\n",
      "Trainable params: 27,781\n",
      "Non-trainable params: 0\n",
      "_________________________________________________________________\n"
     ]
    }
   ],
   "source": [
    "#training\n",
    "epochs = 50\n",
    "model.fit(X_train, y_train, batch_size=32, epochs=epochs, validation_data=(X_val, y_val))\n",
    "model.summary()\n",
    "model.save('/home/osamaali/MAS/winter_22/SDP winter_22/Codes/Image_processing/CNN/model/cnn.h5')"
   ]
  },
  {
   "cell_type": "code",
   "execution_count": 21,
   "id": "ee334c7a",
   "metadata": {},
   "outputs": [
    {
     "name": "stdout",
     "output_type": "stream",
     "text": [
      "40/40 [==============================] - 0s 4ms/step\n",
      "Accuracy Score = 100.000000%\n"
     ]
    },
    {
     "name": "stderr",
     "output_type": "stream",
     "text": [
      "/tmp/ipykernel_35699/751520316.py:6: DeprecationWarning: `np.int` is a deprecated alias for the builtin `int`. To silence this warning, use `int` by itself. Doing this will not modify any behavior and is safe. When replacing `np.int`, you may wish to use e.g. `np.int64` or `np.int32` to specify the precision. If you wish to review your current use, check the release note link for additional information.\n",
      "Deprecated in NumPy 1.20; for more details and guidance: https://numpy.org/devdocs/release/1.20.0-notes.html#deprecations\n",
      "  y_test = y_test.astype(np.int)\n"
     ]
    }
   ],
   "source": [
    "#testing\n",
    "X_test=np.array(X_test)\n",
    "y_test=np.array(y_test)\n",
    "pred = model.predict(X_test)\n",
    "pred = np.argmax(pred,axis=1)\n",
    "y_test = y_test.astype(np.int)\n",
    "#Accuracy with the test data\n",
    "print(\"Accuracy Score = %f\" %((accuracy_score(y_test, pred))*100)+\"%\")\n",
    "# # Map the numbers into letters\n",
    "# y_test_letters = [labels[x] for x in Y_test]\n",
    "# pred_letters = [labels[x] for x in pred]\n",
    "# print(classification_report(y_test_letters, pred_letters))"
   ]
  },
  {
   "cell_type": "code",
   "execution_count": 22,
   "id": "5ce04c49",
   "metadata": {},
   "outputs": [
    {
     "name": "stdout",
     "output_type": "stream",
     "text": [
      "[2 4 0 0 4 1 2 1 1 0]\n",
      "[2 4 0 0 4 1 2 1 1 0]\n"
     ]
    }
   ],
   "source": [
    "print(y_test[:10])\n",
    "print(pred[:10])"
   ]
  },
  {
   "cell_type": "code",
   "execution_count": null,
   "id": "46be6733",
   "metadata": {},
   "outputs": [],
   "source": []
  }
 ],
 "metadata": {
  "kernelspec": {
   "display_name": "Python 3 (ipykernel)",
   "language": "python",
   "name": "python3"
  },
  "language_info": {
   "codemirror_mode": {
    "name": "ipython",
    "version": 3
   },
   "file_extension": ".py",
   "mimetype": "text/x-python",
   "name": "python",
   "nbconvert_exporter": "python",
   "pygments_lexer": "ipython3",
   "version": "3.9.13"
  }
 },
 "nbformat": 4,
 "nbformat_minor": 5
}
